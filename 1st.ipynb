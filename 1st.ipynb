{
 "cells": [
  {
   "cell_type": "code",
   "execution_count": 76,
   "id": "5fab7ceb",
   "metadata": {},
   "outputs": [
    {
     "name": "stdout",
     "output_type": "stream",
     "text": [
      "ada lovelace\n"
     ]
    }
   ],
   "source": [
    "first_name = \"ada\"\n",
    "last_name = \"lovelace\"\n",
    "full_name = first_name + \" \" + last_name\n",
    "print(full_name)"
   ]
  },
  {
   "cell_type": "code",
   "execution_count": 77,
   "id": "044bbd31",
   "metadata": {},
   "outputs": [
    {
     "name": "stdout",
     "output_type": "stream",
     "text": [
      "Hello, Sujan Bhattarai\n",
      "how are you\n"
     ]
    }
   ],
   "source": [
    "first_name=\"Sujan\"\n",
    "last_name=\"Bhattarai\"\n",
    "full_name= first_name + \" \" + last_name\n",
    "output = (\"Hello,\" + \" \"+ full_name.title() + \"\\nhow are you\")\n",
    "print(output)"
   ]
  },
  {
   "cell_type": "markdown",
   "id": "7ce233a0",
   "metadata": {},
   "source": [
    "store=(\"Ram limbu\")\n",
    "print(store + \",\"+\" how are you today\")"
   ]
  },
  {
   "cell_type": "markdown",
   "id": "a0834a88",
   "metadata": {},
   "source": [
    "garry=\"Gary William Flake\"\n",
    "print(garry + \", One's said\" + \" I knew, always, what I wanted to be. Even before I had my first computer, I wanted to be a computer scientist.\" )"
   ]
  },
  {
   "cell_type": "code",
   "execution_count": 19,
   "id": "b197323d",
   "metadata": {},
   "outputs": [
    {
     "name": "stdout",
     "output_type": "stream",
     "text": [
      "sdhf \n",
      " sdhf\n",
      "sdhf\n"
     ]
    }
   ],
   "source": [
    "ram_name=\" sdhf \"\n",
    "print(ram_name.lstrip())\n",
    "print(ram_name.rstrip())\n",
    "print(ram_name.strip())"
   ]
  },
  {
   "cell_type": "code",
   "execution_count": 22,
   "id": "55af20be",
   "metadata": {},
   "outputs": [
    {
     "data": {
      "text/plain": [
       "16"
      ]
     },
     "execution_count": 22,
     "metadata": {},
     "output_type": "execute_result"
    }
   ],
   "source": [
    "2*4\n",
    "4**2"
   ]
  },
  {
   "cell_type": "code",
   "execution_count": 24,
   "id": "f584238e",
   "metadata": {},
   "outputs": [
    {
     "data": {
      "text/plain": [
       "20"
      ]
     },
     "execution_count": 24,
     "metadata": {},
     "output_type": "execute_result"
    }
   ],
   "source": [
    "(2+3)*4"
   ]
  },
  {
   "cell_type": "code",
   "execution_count": 25,
   "id": "58f700e1",
   "metadata": {},
   "outputs": [
    {
     "data": {
      "text/plain": [
       "0.30000000000000004"
      ]
     },
     "execution_count": 25,
     "metadata": {},
     "output_type": "execute_result"
    }
   ],
   "source": [
    "3*0.1"
   ]
  },
  {
   "cell_type": "code",
   "execution_count": 30,
   "id": "d014d166",
   "metadata": {},
   "outputs": [
    {
     "name": "stdout",
     "output_type": "stream",
     "text": [
      "helloyour age is 11\n"
     ]
    }
   ],
   "source": [
    "age=11\n",
    "print(\"hello\" + \"your age is\"+\" \"+str(age))"
   ]
  },
  {
   "cell_type": "code",
   "execution_count": 33,
   "id": "dd5bd282",
   "metadata": {},
   "outputs": [
    {
     "data": {
      "text/plain": [
       "1.6615"
      ]
     },
     "execution_count": 33,
     "metadata": {},
     "output_type": "execute_result"
    }
   ],
   "source": [
    "3.323/2\n"
   ]
  },
  {
   "cell_type": "code",
   "execution_count": 35,
   "id": "6db71610",
   "metadata": {},
   "outputs": [
    {
     "name": "stdout",
     "output_type": "stream",
     "text": [
      "It's been a long day without you my friend and I will tell you all about it when I see you again Yee ei yee ei hum hum hum hum\n"
     ]
    }
   ],
   "source": [
    "#szayidskfjksdf\n",
    "print(\"It's been a long day without you my friend and I will tell you all about it when I see you again Yee ei yee ei hum hum hum hum\")"
   ]
  },
  {
   "cell_type": "code",
   "execution_count": 36,
   "id": "c2436cdf",
   "metadata": {},
   "outputs": [
    {
     "name": "stdout",
     "output_type": "stream",
     "text": [
      "The Zen of Python, by Tim Peters\n",
      "\n",
      "Beautiful is better than ugly.\n",
      "Explicit is better than implicit.\n",
      "Simple is better than complex.\n",
      "Complex is better than complicated.\n",
      "Flat is better than nested.\n",
      "Sparse is better than dense.\n",
      "Readability counts.\n",
      "Special cases aren't special enough to break the rules.\n",
      "Although practicality beats purity.\n",
      "Errors should never pass silently.\n",
      "Unless explicitly silenced.\n",
      "In the face of ambiguity, refuse the temptation to guess.\n",
      "There should be one-- and preferably only one --obvious way to do it.\n",
      "Although that way may not be obvious at first unless you're Dutch.\n",
      "Now is better than never.\n",
      "Although never is often better than *right* now.\n",
      "If the implementation is hard to explain, it's a bad idea.\n",
      "If the implementation is easy to explain, it may be a good idea.\n",
      "Namespaces are one honking great idea -- let's do more of those!\n"
     ]
    }
   ],
   "source": [
    "import this"
   ]
  },
  {
   "cell_type": "code",
   "execution_count": 43,
   "id": "87fa8f60",
   "metadata": {},
   "outputs": [
    {
     "name": "stdout",
     "output_type": "stream",
     "text": [
      "Kdsfjs\n",
      "Idfjsd\n",
      "kdsfjs\n"
     ]
    }
   ],
   "source": [
    "list=[1,\"idfjsd\",3,\"kdsfjs\"]\n",
    "print(list[3].title())\n",
    "print(list[1].title())\n",
    "print(list[-1])"
   ]
  },
  {
   "cell_type": "code",
   "execution_count": 47,
   "id": "2b833447",
   "metadata": {},
   "outputs": [
    {
     "name": "stdout",
     "output_type": "stream",
     "text": [
      "['Apple', 'ball', 'cat']\n",
      "['Apple', 'ball', 'Bycycle']\n",
      "['Apple', 'ball', 'Bycycle', 'dog']\n"
     ]
    }
   ],
   "source": [
    "list1=['Apple','ball',\"cat\"]\n",
    "print(list1)\n",
    "list1[2]='Bycycle'\n",
    "print(list1)\n",
    "list1.append(\"dog\")\n",
    "print(list1)"
   ]
  },
  {
   "cell_type": "code",
   "execution_count": 59,
   "id": "0f2177d6",
   "metadata": {
    "scrolled": true
   },
   "outputs": [
    {
     "name": "stdout",
     "output_type": "stream",
     "text": [
      "['merceties', 'ferari', 'hyandu', 'bolero', 'nexon']\n",
      "['merceties', 'hyandu', 'bolero', 'nexon']\n",
      "['merceties', 'bolero', 'nexon']\n",
      "['merceties', 'nexon']\n"
     ]
    }
   ],
   "source": [
    "list2=[\"merceties\",\"ferari\",\"hyandu\",\"bolero\"]\n",
    "list2.insert(4,\"nexon\")\n",
    "print(list2)\n",
    "del list2[1]\n",
    "print(list2)\n",
    "list2.pop(1)\n",
    "print(list2)\n",
    "list2.remove(\"bolero\")\n",
    "print(list2)"
   ]
  },
  {
   "cell_type": "code",
   "execution_count": 64,
   "id": "358ba6b3",
   "metadata": {},
   "outputs": [
    {
     "name": "stdout",
     "output_type": "stream",
     "text": [
      "['a', 'b', 'c', 'd', 'e', 't', 'x', 'y']\n",
      "['y', 'x', 't', 'e', 'd', 'c', 'b', 'a']\n"
     ]
    }
   ],
   "source": [
    "list3=[\"x\",\"t\",\"y\",\"a\",\"b\",\"c\",\"d\",'e']\n",
    "list3.sort()\n",
    "print(list3)\n",
    "list3.sort(reverse=True)\n",
    "print(list3)"
   ]
  },
  {
   "cell_type": "code",
   "execution_count": 79,
   "id": "75e514bf",
   "metadata": {},
   "outputs": [
    {
     "name": "stdout",
     "output_type": "stream",
     "text": [
      "['7', '6', '4', '2', '1']\n",
      "['2', '7', '4', '1', '6']\n",
      "['6', '1', '4', '7', '2']\n",
      "5\n"
     ]
    }
   ],
   "source": [
    "a=[\"2\",'7',\"4\",\"1\",\"6\"]\n",
    "print(sorted(a, reverse=True))\n",
    "print(a)\n",
    "a.reverse()\n",
    "print(a)\n",
    "b=len(a)\n",
    "print(b)"
   ]
  },
  {
   "cell_type": "code",
   "execution_count": 78,
   "id": "ba8f04a9",
   "metadata": {},
   "outputs": [
    {
     "ename": "SyntaxError",
     "evalue": "invalid syntax (2890341904.py, line 1)",
     "output_type": "error",
     "traceback": [
      "\u001b[1;36m  Cell \u001b[1;32mIn[78], line 1\u001b[1;36m\u001b[0m\n\u001b[1;33m    def\u001b[0m\n\u001b[1;37m       ^\u001b[0m\n\u001b[1;31mSyntaxError\u001b[0m\u001b[1;31m:\u001b[0m invalid syntax\n"
     ]
    }
   ],
   "source": [
    "def\n",
    "ds,ad,/a"
   ]
  },
  {
   "cell_type": "code",
   "execution_count": 81,
   "id": "fbfce089",
   "metadata": {},
   "outputs": [
    {
     "name": "stdout",
     "output_type": "stream",
     "text": [
      "s\n"
     ]
    }
   ],
   "source": [
    "hel=[\"s\"]\n",
    "print(hel[-1])"
   ]
  },
  {
   "cell_type": "code",
   "execution_count": 86,
   "id": "f910ad5f",
   "metadata": {},
   "outputs": [
    {
     "name": "stdout",
     "output_type": "stream",
     "text": [
      "hello\n",
      "hello\n",
      "hello\n",
      "hello\n"
     ]
    }
   ],
   "source": [
    "magicians=['alice','sujan','carolina','simon']\n",
    "for item in magicians:\n",
    "    print(\"hello\")"
   ]
  },
  {
   "cell_type": "code",
   "execution_count": 101,
   "id": "59d2fbbc",
   "metadata": {},
   "outputs": [
    {
     "name": "stdout",
     "output_type": "stream",
     "text": [
      "Hello alice, It is good to see you.\n",
      "I can't wait to see your next trick, Simon.\n",
      "\n",
      "Hello sujan, It is good to see you.\n",
      "I can't wait to see your next trick, Simon.\n",
      "\n",
      "Hello carolina, It is good to see you.\n",
      "I can't wait to see your next trick, Simon.\n",
      "\n",
      "Hello Rocky, It is good to see you.\n",
      "I can't wait to see your next trick, Simon.\n",
      "\n"
     ]
    }
   ],
   "source": [
    "magicians=['alice','sujan','carolina','Rocky']\n",
    "for item in magicians:\n",
    "    print(\"Hello\"+ \" \"+ item +\", It is good to see you.\")\n",
    "    print(\"I can't wait to see your next trick, \" + magician.title() + \".\\n\")\n"
   ]
  },
  {
   "cell_type": "code",
   "execution_count": null,
   "id": "1d1df76e",
   "metadata": {},
   "outputs": [],
   "source": [
    "\n"
   ]
  }
 ],
 "metadata": {
  "kernelspec": {
   "display_name": "Python 3 (ipykernel)",
   "language": "python",
   "name": "python3"
  },
  "language_info": {
   "codemirror_mode": {
    "name": "ipython",
    "version": 3
   },
   "file_extension": ".py",
   "mimetype": "text/x-python",
   "name": "python",
   "nbconvert_exporter": "python",
   "pygments_lexer": "ipython3",
   "version": "3.11.5"
  }
 },
 "nbformat": 4,
 "nbformat_minor": 5
}
